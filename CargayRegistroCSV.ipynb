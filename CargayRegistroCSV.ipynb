{
 "cells": [
  {
   "cell_type": "markdown",
   "id": "2f4ff301-30aa-430e-ab85-3e1006eb07fd",
   "metadata": {},
   "source": [
    "### Creacion de sistema para crear CSV"
   ]
  },
  {
   "cell_type": "code",
   "execution_count": 110,
   "id": "fb85e20d-3f37-44d5-847f-0b16d8e1ca27",
   "metadata": {},
   "outputs": [],
   "source": [
    "# Paso 1: Importar librerías necesarias\n",
    "import csv\n",
    "import sqlite3\n",
    "from datetime import datetime"
   ]
  },
  {
   "cell_type": "code",
   "execution_count": 112,
   "id": "e6012fd6-ac74-4f60-a3ca-01b0b5f3e1d2",
   "metadata": {},
   "outputs": [],
   "source": [
    "import datetime\n",
    "\n",
    "# Lista para almacenar registros únicos\n",
    "registros = set()\n",
    "\n",
    "# Función para validar y agregar registros\n",
    "def agregar_registro(fecha, mesReporte, añoReporte, tipoRegistro, monto):\n",
    "    # Validación de tipo de registro (Ingreso o Egreso)\n",
    "    if tipoRegistro not in [\"Ingreso\", \"Egreso\"]:\n",
    "        print(\"Error: El tipo de registro debe ser 'Ingreso' o 'Egreso'.\")\n",
    "        return False\n",
    "    \n",
    "    # Validación de formato de fecha\n",
    "    try:\n",
    "        fecha_obj = datetime.datetime.strptime(fecha, \"%d-%m-%Y\")\n",
    "    except ValueError:\n",
    "        print(\"Error: La fecha debe tener el formato 'DD-MM-YYYY'.\")\n",
    "        return False\n",
    "\n",
    "    # Validación de formato numérico para mesReporte, añoReporte y monto\n",
    "    try:\n",
    "        mesReporte = int(mesReporte)\n",
    "        añoReporte = int(añoReporte)\n",
    "        monto = float(monto)\n",
    "    except ValueError:\n",
    "        print(\"Error: Datos inconsistentes. Mes, Año y Monto deben ser numéricos.\")\n",
    "        return False\n",
    "\n",
    "    # Validación de mes dentro del rango 1-12\n",
    "    if not (1 <= mesReporte <= 12):\n",
    "        print(\"Error: El mes debe estar en el rango 1-12.\")\n",
    "        return False\n",
    "\n",
    "    # Validación de que la fecha corresponde al mes y año de reporte\n",
    "    if fecha_obj.month != mesReporte or fecha_obj.year != añoReporte:\n",
    "        print(\"Error: La fecha no corresponde con el mes y año del reporte.\")\n",
    "        return False\n",
    "\n",
    "    # Validación de monto positivo para 'Ingreso' o negativo/menor para 'Egreso'\n",
    "    if tipoRegistro == \"Ingreso\" and monto <= 0:\n",
    "        print(\"Error: El monto para 'Ingreso' debe ser positivo.\")\n",
    "        return False\n",
    "    elif tipoRegistro == \"Egreso\" and monto >= 0:\n",
    "        print(\"Error: El monto para 'Egreso' debe ser negativo.\")\n",
    "        return False\n",
    "\n",
    "    # Crear una tupla con el registro para validar duplicados\n",
    "    registro = (fecha, mesReporte, añoReporte, tipoRegistro, monto)\n",
    "    if registro in registros:\n",
    "        print(\"Error: Registro duplicado detectado ->\", registro)\n",
    "        return False\n",
    "\n",
    "    # Agregar registro al conjunto si pasa todas las validaciones\n",
    "    registros.add(registro)\n",
    "    print(\"Registro agregado exitosamente:\", registro)\n",
    "    return True"
   ]
  },
  {
   "cell_type": "markdown",
   "id": "8240b889-d8fe-459c-bf91-27e8d265ef45",
   "metadata": {},
   "source": [
    "### Cargar registros individualmente y verificar si hay registros duplicados."
   ]
  },
  {
   "cell_type": "code",
   "execution_count": 114,
   "id": "1e898a9f-5b6e-4f01-8b3b-d2edf1017da1",
   "metadata": {},
   "outputs": [
    {
     "name": "stdout",
     "output_type": "stream",
     "text": [
      "Error: El tipo de registro debe ser 'Ingreso' o 'Egreso'.\n",
      "Error: La fecha debe tener el formato 'DD-MM-YYYY'.\n",
      "Error: Datos inconsistentes. Mes, Año y Monto deben ser numéricos.\n",
      "Error: La fecha debe tener el formato 'DD-MM-YYYY'.\n",
      "Error: La fecha no corresponde con el mes y año del reporte.\n",
      "Error: El monto para 'Ingreso' debe ser positivo.\n",
      "Registro agregado exitosamente: ('8-11-2023', 11, 2023, 'Ingreso', 4500.0)\n",
      "Registro agregado exitosamente: ('9-11-2023', 11, 2023, 'Egreso', -3000.0)\n"
     ]
    },
    {
     "data": {
      "text/plain": [
       "True"
      ]
     },
     "execution_count": 114,
     "metadata": {},
     "output_type": "execute_result"
    }
   ],
   "source": [
    "# Paso 3: Agregar registros de prueba\n",
    "# Error de tipo de registro\n",
    "agregar_registro(\"8-11-2023\", 11, 2023, \"Retiro\", 4500)\n",
    "# Error formato Fecha\n",
    "agregar_registro(\"2023-11-08\", 11, 2023, \"Ingreso\", 4500)\n",
    "# Error de valores\n",
    "agregar_registro(\"8-11-2023\", \"Nov\", 2023, \"Ingreso\", \"cuatro mil quinientos\")\n",
    "#Error de mes fuero de rango\n",
    "agregar_registro(\"8-13-2023\", 13, 2023, \"Ingreso\", 4500)\n",
    "#Error de inconsistencia entre la fecha y el mes/año del reporte\n",
    "agregar_registro(\"8-11-2023\", 10, 2023, \"Ingreso\", 4500)\n",
    "# Error de monto negativo para \"Ingreso\"\n",
    "agregar_registro(\"8-11-2023\", 11, 2023, \"Ingreso\", -4500)\n",
    "\n",
    "# Datos Correctos\n",
    "agregar_registro(\"8-11-2023\", 11, 2023, \"Ingreso\", 4500)\n",
    "agregar_registro(\"9-11-2023\", 11, 2023, \"Egreso\", -3000)\n"
   ]
  },
  {
   "cell_type": "code",
   "execution_count": 116,
   "id": "251ad8c1-e1d1-4536-80c4-12affa4a75d8",
   "metadata": {},
   "outputs": [
    {
     "name": "stdout",
     "output_type": "stream",
     "text": [
      "Registro agregado: ('09-09-2023', 9, 2023, 'Ingreso', 4256.15)\n",
      "Registro agregado: ('13-07-2023', 7, 2023, 'Egreso', -1908.92)\n",
      "Registro agregado: ('01-10-2023', 10, 2023, 'Ingreso', 3039.84)\n",
      "Registro agregado: ('29-12-2023', 12, 2023, 'Egreso', -2142.88)\n",
      "Registro agregado: ('29-12-2023', 12, 2023, 'Ingreso', 1123.44)\n",
      "Registro agregado: ('08-12-2023', 12, 2023, 'Egreso', -4760.95)\n",
      "Registro agregado: ('04-11-2023', 11, 2023, 'Ingreso', 2056.87)\n",
      "Registro agregado: ('29-09-2023', 9, 2023, 'Ingreso', 2168.37)\n",
      "Registro agregado: ('29-12-2023', 12, 2023, 'Egreso', -4092.04)\n",
      "Registro agregado: ('12-03-2023', 3, 2023, 'Ingreso', 1635.75)\n",
      "Registro agregado: ('20-09-2023', 9, 2023, 'Egreso', -2536.18)\n",
      "Registro agregado: ('14-02-2023', 2, 2023, 'Ingreso', 1884.52)\n",
      "Registro agregado: ('25-02-2023', 2, 2023, 'Egreso', -3634.59)\n",
      "Registro agregado: ('05-06-2023', 6, 2023, 'Egreso', -4992.52)\n",
      "Registro agregado: ('01-10-2023', 10, 2023, 'Ingreso', 2252.82)\n",
      "Registro agregado: ('04-11-2023', 11, 2023, 'Egreso', -4186.78)\n",
      "Registro agregado: ('09-09-2023', 9, 2023, 'Egreso', -2889.68)\n",
      "Registro agregado: ('04-07-2023', 7, 2023, 'Ingreso', 3399.53)\n",
      "Registro agregado: ('07-08-2023', 8, 2023, 'Ingreso', 2158.05)\n",
      "Registro agregado: ('02-09-2023', 9, 2023, 'Ingreso', 1430.96)\n",
      "Registro agregado: ('14-01-2023', 1, 2023, 'Ingreso', 1825.41)\n",
      "Registro agregado: ('09-08-2023', 8, 2023, 'Egreso', -2421.43)\n",
      "Registro agregado: ('05-06-2023', 6, 2023, 'Ingreso', 3268.17)\n",
      "Registro agregado: ('20-09-2023', 9, 2023, 'Ingreso', 2160.96)\n",
      "Registro agregado: ('25-11-2023', 11, 2023, 'Egreso', -3193.72)\n",
      "Registro agregado: ('29-11-2023', 11, 2023, 'Egreso', -4030.64)\n",
      "Registro agregado: ('13-08-2023', 8, 2023, 'Egreso', -2597.68)\n",
      "Registro agregado: ('11-10-2023', 10, 2023, 'Ingreso', 2416.12)\n",
      "Registro agregado: ('05-06-2023', 6, 2023, 'Egreso', -4094.27)\n",
      "Registro agregado: ('01-12-2023', 12, 2023, 'Ingreso', 3973.39)\n"
     ]
    }
   ],
   "source": [
    "#Paso 3.1 con datos en carga masiva mediante un csv\n",
    "# Paso 3.1 - Carga Masiva desde un Archivo CSV con Validación de Duplicados e Inconsistencias\n",
    "def carga_masiva_desde_csv(nombre_archivo):\n",
    "    with open(nombre_archivo, mode=\"r\") as archivo_csv:\n",
    "        reader = csv.reader(archivo_csv)\n",
    "        next(reader)  # Saltar encabezado\n",
    "        \n",
    "        for fila in reader:\n",
    "            # Verificar que la fila tenga todos los campos necesarios\n",
    "            if len(fila) != 5:\n",
    "                print(f\"Error: Registro con formato incorrecto -> {fila}\")\n",
    "                continue\n",
    "            \n",
    "            fecha, mesReporte, añoReporte, tipoRegistro, monto = fila\n",
    "            \n",
    "            # Validar formato de datos\n",
    "            try:\n",
    "                mesReporte = int(mesReporte)\n",
    "                añoReporte = int(añoReporte)\n",
    "                monto = float(monto)\n",
    "            except ValueError:\n",
    "                print(f\"Error: Datos inconsistentes en el registro -> {fila}\")\n",
    "                continue\n",
    "            \n",
    "            # Validar tipo de registro\n",
    "            if tipoRegistro not in [\"Ingreso\", \"Egreso\"]:\n",
    "                print(f\"Error: Tipo de registro inválido en el registro -> {fila}\")\n",
    "                continue\n",
    "            \n",
    "            # Validar duplicados\n",
    "            registro = (fecha, mesReporte, añoReporte, tipoRegistro, monto)\n",
    "            if registro in registros:\n",
    "                print(f\"Registro duplicado detectado, omitiendo -> {registro}\")\n",
    "                continue\n",
    "            \n",
    "            # Agregar el registro si pasa todas las validaciones\n",
    "            registros.add(registro)\n",
    "            print(\"Registro agregado:\", registro)\n",
    "\n",
    "# Llamada a la función de carga masiva desde archivo CSV\n",
    "carga_masiva_desde_csv(\"datos_masivos.csv\")"
   ]
  },
  {
   "cell_type": "code",
   "execution_count": 118,
   "id": "59303e48-8e7f-40da-9631-920ec138a308",
   "metadata": {},
   "outputs": [
    {
     "name": "stdout",
     "output_type": "stream",
     "text": [
      "Archivo reporte.csv guardado exitosamente.\n"
     ]
    }
   ],
   "source": [
    "# Paso 4: Guardar en CSV\n",
    "def guardar_en_csv(nombre_archivo=\"reporte.csv\"): \n",
    "    with open(nombre_archivo, mode=\"w\", newline=\"\") as archivo_csv:\n",
    "        writer = csv.writer(archivo_csv)\n",
    "        writer.writerow([\"fecha\", \"mesReporte\", \"anioReporte\", \"tipoRegistro\", \"monto\"])  # Encabezado\n",
    "        for registro in registros:\n",
    "            writer.writerow(registro)  # Escribir cada registro\n",
    "    print(f\"Archivo {nombre_archivo} guardado exitosamente.\")\n",
    "\n",
    "# Llamada para guardar en CSV\n",
    "guardar_en_csv()\n"
   ]
  },
  {
   "cell_type": "code",
   "execution_count": 120,
   "id": "fc5b710c-bc37-432f-8f0d-2919a926f656",
   "metadata": {},
   "outputs": [
    {
     "name": "stdout",
     "output_type": "stream",
     "text": [
      "Registro duplicado en la base de datos, omitiendo: ['9-11-2023', '11', '2023', 'Egreso', '-3000.0']\n",
      "Registro duplicado en la base de datos, omitiendo: ['8-11-2023', '11', '2023', 'Ingreso', '4500.0']\n",
      "Datos cargados en la base de datos exitosamente.\n"
     ]
    }
   ],
   "source": [
    "# Paso 5: Cargar el CSV en la base de datos SQL\n",
    "def cargar_a_base_datos(nombre_archivo=\"reporte.csv\", nombre_bd=\"respaldo.db\"):\n",
    "    conn = sqlite3.connect(nombre_bd)\n",
    "    cursor = conn.cursor()\n",
    "\n",
    "    # Crear tabla si no existe\n",
    "    cursor.execute('''\n",
    "        CREATE TABLE IF NOT EXISTS flujo_efectivo (\n",
    "            fecha TEXT,\n",
    "            mesReporte INTEGER,\n",
    "            añoReporte INTEGER,\n",
    "            tipoRegistro TEXT,\n",
    "            monto REAL\n",
    "        )\n",
    "    ''')\n",
    "\n",
    "    # Leer el CSV e insertar datos\n",
    "    with open(nombre_archivo, mode=\"r\") as archivo_csv:\n",
    "        reader = csv.reader(archivo_csv)\n",
    "        next(reader)  # Saltar encabezado\n",
    "        for row in reader:\n",
    "            # Validar duplicados en la base de datos\n",
    "            cursor.execute(\"SELECT * FROM flujo_efectivo WHERE fecha=? AND mesReporte=? AND añoReporte=? AND tipoRegistro=? AND monto=?\", row)\n",
    "            if cursor.fetchone():\n",
    "                print(\"Registro duplicado en la base de datos, omitiendo:\", row)\n",
    "            else:\n",
    "                cursor.execute(\"INSERT INTO flujo_efectivo (fecha, mesReporte, añoReporte, tipoRegistro, monto) VALUES (?, ?, ?, ?, ?)\", row)\n",
    "\n",
    "    conn.commit()\n",
    "    conn.close()\n",
    "    print(\"Datos cargados en la base de datos exitosamente.\")\n",
    "\n",
    "# Llamada para cargar datos en la base de datos\n",
    "cargar_a_base_datos()\n"
   ]
  },
  {
   "cell_type": "code",
   "execution_count": 122,
   "id": "ab6ee8aa-37ba-4b69-9ec7-eb88b4543184",
   "metadata": {},
   "outputs": [
    {
     "name": "stdout",
     "output_type": "stream",
     "text": [
      "Registros en la base de datos:\n",
      "('9-11-2023', 11, 2023, 'Egreso', -3000.0)\n",
      "('8-11-2023', 11, 2023, 'Ingreso', 4500.0)\n",
      "('25-02-2023', 2, 2023, 'Egreso', -3634.59)\n",
      "('01-10-2023', 10, 2023, 'Ingreso', 2252.82)\n",
      "('08-12-2023', 12, 2023, 'Egreso', -4760.95)\n",
      "('09-09-2023', 9, 2023, 'Egreso', -2889.68)\n",
      "('11-10-2023', 10, 2023, 'Ingreso', 2416.12)\n",
      "('04-11-2023', 11, 2023, 'Egreso', -4186.78)\n",
      "('13-08-2023', 8, 2023, 'Egreso', -2597.68)\n",
      "('25-11-2023', 11, 2023, 'Egreso', -3193.72)\n",
      "('20-09-2023', 9, 2023, 'Ingreso', 2160.96)\n",
      "('29-11-2023', 11, 2023, 'Egreso', -4030.64)\n",
      "('01-10-2023', 10, 2023, 'Ingreso', 3039.84)\n",
      "('29-12-2023', 12, 2023, 'Egreso', -4092.04)\n",
      "('29-12-2023', 12, 2023, 'Egreso', -2142.88)\n",
      "('29-09-2023', 9, 2023, 'Ingreso', 2168.37)\n",
      "('09-09-2023', 9, 2023, 'Ingreso', 4256.15)\n",
      "('20-09-2023', 9, 2023, 'Egreso', -2536.18)\n",
      "('14-02-2023', 2, 2023, 'Ingreso', 1884.52)\n",
      "('05-06-2023', 6, 2023, 'Egreso', -4094.27)\n",
      "('29-12-2023', 12, 2023, 'Ingreso', 1123.44)\n",
      "('09-08-2023', 8, 2023, 'Egreso', -2421.43)\n",
      "('04-07-2023', 7, 2023, 'Ingreso', 3399.53)\n",
      "('13-07-2023', 7, 2023, 'Egreso', -1908.92)\n",
      "('01-12-2023', 12, 2023, 'Ingreso', 3973.39)\n",
      "('05-06-2023', 6, 2023, 'Ingreso', 3268.17)\n",
      "('05-06-2023', 6, 2023, 'Egreso', -4992.52)\n",
      "('07-08-2023', 8, 2023, 'Ingreso', 2158.05)\n",
      "('12-03-2023', 3, 2023, 'Ingreso', 1635.75)\n",
      "('04-11-2023', 11, 2023, 'Ingreso', 2056.87)\n",
      "('02-09-2023', 9, 2023, 'Ingreso', 1430.96)\n",
      "('14-01-2023', 1, 2023, 'Ingreso', 1825.41)\n"
     ]
    }
   ],
   "source": [
    "# Paso 6: Mostrar registros y limpiar\n",
    "def mostrar_registros(nombre_bd=\"respaldo.db\"):\n",
    "    conn = sqlite3.connect(nombre_bd)\n",
    "    cursor = conn.cursor()\n",
    "    cursor.execute(\"SELECT * FROM flujo_efectivo\")\n",
    "    registros = cursor.fetchall()\n",
    "    conn.close()\n",
    "    print(\"Registros en la base de datos:\")\n",
    "    for registro in registros:\n",
    "        print(registro)\n",
    "\n",
    "# Llamada para mostrar registros en la base de datos\n",
    "mostrar_registros()\n"
   ]
  },
  {
   "cell_type": "code",
   "execution_count": null,
   "id": "92f2cf0c-d4fb-4371-a7c8-154c1c522412",
   "metadata": {},
   "outputs": [],
   "source": []
  }
 ],
 "metadata": {
  "kernelspec": {
   "display_name": "Python 3 (ipykernel)",
   "language": "python",
   "name": "python3"
  },
  "language_info": {
   "codemirror_mode": {
    "name": "ipython",
    "version": 3
   },
   "file_extension": ".py",
   "mimetype": "text/x-python",
   "name": "python",
   "nbconvert_exporter": "python",
   "pygments_lexer": "ipython3",
   "version": "3.12.7"
  }
 },
 "nbformat": 4,
 "nbformat_minor": 5
}
